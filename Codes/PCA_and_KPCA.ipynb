{
  "nbformat": 4,
  "nbformat_minor": 0,
  "metadata": {
    "colab": {
      "name": "PCA_and_KPCA.ipynb",
      "provenance": [],
      "collapsed_sections": [],
      "machine_shape": "hm"
    },
    "kernelspec": {
      "name": "python3",
      "display_name": "Python 3"
    },
    "accelerator": "GPU"
  },
  "cells": [
    {
      "cell_type": "code",
      "metadata": {
        "id": "96uewbAXx7Fh"
      },
      "source": [
        "import numpy as np\n",
        "import pandas as pd\n",
        "import sys\n",
        "import matplotlib.pyplot as plt\n",
        "np.set_printoptions(threshold=sys.maxsize)\n",
        "from sklearn.decomposition import PCA\n",
        "from sklearn.decomposition import KernelPCA\n",
        "from sklearn import preprocessing\n",
        "from sklearn.preprocessing import MinMaxScaler\n",
        "from pandas import ExcelWriter\n",
        "from sklearn.model_selection import train_test_split\n",
        "from sklearn.neighbors import KNeighborsClassifier\n",
        "from sklearn import metrics"
      ],
      "execution_count": null,
      "outputs": []
    },
    {
      "cell_type": "code",
      "metadata": {
        "id": "ZPdX1KeJxhH0"
      },
      "source": [
        "#Loading Dataset\n",
        "data = pd.read_csv('Dataset.csv')\n",
        "data.head()"
      ],
      "execution_count": null,
      "outputs": []
    },
    {
      "cell_type": "code",
      "metadata": {
        "id": "0nQWYJW8IM7g"
      },
      "source": [
        "list=data.loc[:,['Target']]\n",
        "list1=list.values\n",
        "target=data['Target']\n",
        "target.head()\n",
        "target=target.to_numpy()\n",
        "print(target.shape)"
      ],
      "execution_count": null,
      "outputs": []
    },
    {
      "cell_type": "code",
      "metadata": {
        "id": "-ocKuls_IPG0"
      },
      "source": [
        "data=data.drop('Target',axis=1)\n",
        "data.head()\n",
        "data=data.to_numpy()\n",
        "print(data.shape)"
      ],
      "execution_count": null,
      "outputs": []
    },
    {
      "cell_type": "code",
      "metadata": {
        "id": "zuiq4R1aIVkY"
      },
      "source": [
        "#Standardisation\n",
        "std_data = MinMaxScaler().fit_transform(data)\n",
        "std_data.shape"
      ],
      "execution_count": null,
      "outputs": []
    },
    {
      "cell_type": "code",
      "metadata": {
        "id": "mfdih82uIZwX"
      },
      "source": [
        "#Principal Component Analysis\n",
        "pca = PCA(n_components = 2)\n",
        "p=pca.fit_transform(std_data)\n",
        "ev1 = pca.explained_variance_ratio_\n",
        "print(ev1*100)"
      ],
      "execution_count": null,
      "outputs": []
    },
    {
      "cell_type": "code",
      "metadata": {
        "id": "6NkXwIgFgJ9D"
      },
      "source": [
        "#Kernel Principal Component Analysis\n",
        "transformer = KernelPCA(n_components=2, kernel='linear')\n",
        "X_transformed = transformer.fit_transform(std_data)\n",
        "print(X_transformed.shape)\n",
        "explained_variance = np.var(X_transformed, axis=0)\n",
        "ev2 = explained_variance / np.sum(explained_variance)\n",
        "print(ev2*100)"
      ],
      "execution_count": null,
      "outputs": []
    },
    {
      "cell_type": "code",
      "metadata": {
        "id": "HOgd1QXdyJKA"
      },
      "source": [
        "#To plot the weights of PCA\n",
        "plt.bar([1,2],ev1,label='Principal Components',color='turquoise')\n",
        "plt.xlabel('Principal Components')\n",
        "pc=[1,2]\n",
        "plt.xticks(pc, fontsize=8)\n",
        "plt.ylabel('Variance Ratio')\n",
        "plt.title('PC weights of PCA')\n",
        "plt.show()"
      ],
      "execution_count": null,
      "outputs": []
    },
    {
      "cell_type": "code",
      "metadata": {
        "id": "VAT44J7wyMb4"
      },
      "source": [
        "#To plot the weights of KPCA\n",
        "plt.bar([1,2],ev2,label='Principal Components',color='pink')\n",
        "plt.xlabel('Principal Components')\n",
        "pc=[1,2]\n",
        "plt.xticks(pc, fontsize=8)\n",
        "plt.ylabel('Variance Ratio')\n",
        "plt.title('PC weights of KPCA')\n",
        "plt.show()"
      ],
      "execution_count": null,
      "outputs": []
    },
    {
      "cell_type": "code",
      "metadata": {
        "id": "ruoESdHsyhIo"
      },
      "source": [
        "#Converting to Dataframe\n",
        "a=pd.DataFrame(p)\n",
        "b=pd.DataFrame(X_transformed)"
      ],
      "execution_count": null,
      "outputs": []
    },
    {
      "cell_type": "code",
      "metadata": {
        "id": "7fvAMzc_-e1G"
      },
      "source": [
        "#To write the output PCA values\n",
        "writer=ExcelWriter('Dataset_PCA_Prototype.xlsx')\n",
        "a.to_excel(writer)\n",
        "writer.save()"
      ],
      "execution_count": null,
      "outputs": []
    },
    {
      "cell_type": "code",
      "metadata": {
        "id": "TzWd4kekJJ-x"
      },
      "source": [
        "#To write the output KPCA values\n",
        "writer=ExcelWriter('Dataset_KPCA_Prototype.xlsx')\n",
        "b.to_excel(writer)\n",
        "writer.save()"
      ],
      "execution_count": null,
      "outputs": []
    }
  ]
}