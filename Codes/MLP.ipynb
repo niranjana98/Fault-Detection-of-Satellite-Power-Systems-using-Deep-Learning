{
  "nbformat": 4,
  "nbformat_minor": 0,
  "metadata": {
    "colab": {
      "name": "MLP",
      "provenance": []
    },
    "kernelspec": {
      "name": "python3",
      "display_name": "Python 3"
    },
    "accelerator": "GPU"
  },
  "cells": [
    {
      "cell_type": "code",
      "metadata": {
        "id": "h3J2K2BnK2ao"
      },
      "source": [
        "import pandas as pd\n",
        "import numpy as np\n",
        "from sklearn.model_selection import train_test_split\n",
        "from sklearn.metrics import confusion_matrix\n",
        "from sklearn.metrics import accuracy_score\n",
        "from sklearn.metrics import precision_score\n",
        "from sklearn.metrics import recall_score\n",
        "from sklearn.metrics import f1_score\n",
        "from sklearn.metrics import cohen_kappa_score\n",
        "from sklearn.metrics import roc_auc_score\n",
        "from sklearn.metrics import roc_curve\n",
        "from sklearn.metrics import auc\n",
        "from sklearn.metrics import mean_absolute_error\n",
        "from sklearn.metrics import mean_squared_error\n",
        "from sklearn.model_selection import train_test_split\n",
        "import seaborn as sns\n",
        "import matplotlib.pyplot as plt\n",
        "from sklearn.neural_network import MLPClassifier"
      ],
      "execution_count": null,
      "outputs": []
    },
    {
      "cell_type": "code",
      "metadata": {
        "id": "2-GZGZfiXlFc"
      },
      "source": [
        "# Load the Dataset\n",
        "d=pd.read_csv(\"/content/Dataset_KPCA.csv\")\n",
        "dataset=d.to_numpy()"
      ],
      "execution_count": null,
      "outputs": []
    },
    {
      "cell_type": "code",
      "metadata": {
        "id": "SpbjgaW-XplQ"
      },
      "source": [
        "# Split into input (X) and output (Y) variables\n",
        "X = dataset[:,0:5]\n",
        "Y = dataset[:,5]"
      ],
      "execution_count": null,
      "outputs": []
    },
    {
      "cell_type": "code",
      "metadata": {
        "id": "tU2WQvOpXsrt"
      },
      "source": [
        "# Test Train Split\n",
        "X_train, X_test, Y_train, Y_test = train_test_split(X, Y, test_size=0.5, shuffle=True)"
      ],
      "execution_count": null,
      "outputs": []
    },
    {
      "cell_type": "code",
      "metadata": {
        "id": "b9vEBbVfXw7_"
      },
      "source": [
        "# Create MLP Model\n",
        "for a in range(100):\n",
        "    b=a+1\n",
        "    mlp = MLPClassifier(hidden_layer_sizes=b,solver='adam',learning_rate_init=0.1,max_iter=400)"
      ],
      "execution_count": null,
      "outputs": []
    },
    {
      "cell_type": "code",
      "metadata": {
        "id": "zTI0Y2x8X4pg"
      },
      "source": [
        "# Train the model\n",
        "Y_pred = mlp.fit(X_train, Y_train).predict(X_test)"
      ],
      "execution_count": null,
      "outputs": []
    },
    {
      "cell_type": "code",
      "metadata": {
        "id": "2CD48jFhX9mm"
      },
      "source": [
        "# Test the model\n",
        "a=mlp.score(X_test,Y_test)\n",
        "if a>0.7:\n",
        "print (np.mean(a))"
      ],
      "execution_count": null,
      "outputs": []
    },
    {
      "cell_type": "code",
      "metadata": {
        "id": "Ig7K7hRBYDRX"
      },
      "source": [
        "# Evaluation Metrics\n",
        "# accuracy: (tp + tn) / (p + n)\n",
        "accuracy = accuracy_score(Y_test, Y_pred)\n",
        "print('Accuracy:' ,accuracy*100)\n",
        "# precision tp / (tp + fp)\n",
        "precision = precision_score(Y_test, Y_pred)\n",
        "print('Precision: %f', precision*100)\n",
        "# recall: tp / (tp + fn)\n",
        "recall = recall_score(Y_test, Y_pred)\n",
        "print('Recall: %f', recall*100)\n",
        "# f1: 2 tp / (2 tp + fp + fn)\n",
        "f1 = f1_score(Y_test, Y_pred)\n",
        "print('F1 score: %f',f1)\n",
        " # kappa\n",
        "kappa = cohen_kappa_score(Y_test, Y_pred)\n",
        "print('Cohens kappa: %f', kappa)\n",
        "# ROC AUC\n",
        "auc_1 = roc_auc_score(Y_test, Y_pred)\n",
        "print('ROC AUC: %f', auc_1)\n",
        "# confusion matrix\n",
        "matrix = confusion_matrix(Y_test, Y_pred)\n",
        "print('Confusion Matrix' , matrix)\n",
        "# MAE\n",
        "mae = mean_absolute_error(Y_test, Y_pred)\n",
        "print('Mean Absolute Error', mae)\n",
        "#RMSE\n",
        "mse = mean_squared_error(Y_test, Y_pred)\n",
        "rmse = np.sqrt(mse)\n",
        "print('Root Mean Squared Error', rmse)"
      ],
      "execution_count": null,
      "outputs": []
    },
    {
      "cell_type": "code",
      "metadata": {
        "id": "mH2f5EoNYHqT"
      },
      "source": [
        "# Plot the Confusion Matrix\n",
        "ax = sns.heatmap(matrix)"
      ],
      "execution_count": null,
      "outputs": []
    },
    {
      "cell_type": "code",
      "metadata": {
        "id": "Lv8bk2-jp1H5"
      },
      "source": [
        "# Plot the ROC AUC\n",
        "fpr_keras, tpr_keras, thresholds_keras = roc_curve(Y_test, Y_pred)\n",
        "auc_keras = auc(fpr_keras, tpr_keras)\n",
        "plt.figure(1)\n",
        "plt.plot([0, 1], [0, 1])\n",
        "plt.plot(fpr_keras, tpr_keras, label='Keras (area = {:.3f})'.format(auc_keras))\n",
        "plt.xlabel('False positive rate')\n",
        "plt.ylabel('True positive rate')\n",
        "plt.title('ROC curve')\n",
        "plt.legend(loc='best')\n",
        "plt.show()        "
      ],
      "execution_count": null,
      "outputs": []
    }
  ]
}